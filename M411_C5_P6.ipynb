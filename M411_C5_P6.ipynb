{
 "cells": [
  {
   "cell_type": "markdown",
   "metadata": {},
   "source": [
    "## C5 P6\n",
    "\n",
    "### (Computer Problem 5.2.1) Use the composite Trapezoid Rule with m = 16, and 32 panels to approximate the definite integral. Compare with the correct integral and report the two errors.\n"
   ]
  },
  {
   "cell_type": "markdown",
   "metadata": {},
   "source": [
    "### (a)\n",
    "\n",
    "$$ \\int_{0}^{4} \\frac{x}{\\sqrt{x^2 + 9}} \\; dx = 2$$"
   ]
  },
  {
   "cell_type": "code",
   "execution_count": 17,
   "metadata": {
    "collapsed": false
   },
   "outputs": [
    {
     "name": "stdout",
     "output_type": "stream",
     "text": [
      "with 16 panels\n",
      "approximate integral =  1.99863818147\n",
      "error =  0.00136181852972\n",
      "\n",
      "\n",
      "with 32 panels\n",
      "approximate integral =  1.99965967808\n",
      "error =  0.000340321922089\n",
      "\n",
      " err16/err32 =  4.00155982125\n"
     ]
    }
   ],
   "source": [
    "# Composite Trapezoid Rule\n",
    "#\n",
    "# input:    f is the integrand\n",
    "#           a is lower limit of integration\n",
    "#           b is upper limit of integration\n",
    "#           m is number of panels \n",
    "# output:   the approximate value of the definite integral\n",
    "\n",
    "import numpy as np\n",
    "\n",
    "def ctrap(f, a, b, m):\n",
    "# define h\n",
    "    h = (b-a)/m\n",
    "# create the list of equally spaced nodes\n",
    "    x = np.linspace(a, b, m+1, endpoint=True)\n",
    "# evaluate f(x) at each of the nodes\n",
    "    y = f(x)\n",
    "# implement formula (5.24)\n",
    "    return h*np.sum(y[1:m]) + (h/2)*(y[0]+y[m])\n",
    "\n",
    "def f(x):\n",
    "    return x/np.sqrt(np.power(x,2) + 9)\n",
    "\n",
    "value = 2.0\n",
    "a = 0\n",
    "b = 4\n",
    "\n",
    "m = 16\n",
    "appr = ctrap(f, a, b, m)\n",
    "err16 = np.abs(value - appr)\n",
    "print('with %d panels' % m)\n",
    "print('approximate integral = ', appr)\n",
    "print('error = ', err16)\n",
    "\n",
    "m = 32\n",
    "appr = ctrap(f, a, b, m)\n",
    "err32 = np.abs(value - appr)\n",
    "print('\\n\\nwith %d panels' % m)\n",
    "print('approximate integral = ', appr)\n",
    "print('error = ', err32)\n",
    "\n",
    "print('\\nerr16/err32 = ', err16/err32)\n"
   ]
  },
  {
   "cell_type": "markdown",
   "metadata": {},
   "source": [
    "### (c)\n",
    "\n",
    "$$ \\int_{0}^{1} x \\, e^x \\; dx = 1 $$"
   ]
  },
  {
   "cell_type": "code",
   "execution_count": 18,
   "metadata": {
    "collapsed": false
   },
   "outputs": [
    {
     "name": "stdout",
     "output_type": "stream",
     "text": [
      "with 16 panels\n",
      "approximate integral =  1.00144402707\n",
      "error =  0.00144402706771\n",
      "\n",
      "\n",
      "with 32 panels\n",
      "approximate integral =  1.00036103805\n",
      "error =  0.0003610380467\n",
      "\n",
      "err16/err32 =  3.99965344624\n"
     ]
    }
   ],
   "source": [
    "def f(x):\n",
    "    return x*np.exp(x)\n",
    "\n",
    "value = 1.0\n",
    "a = 0\n",
    "b = 1\n",
    "\n",
    "m = 16\n",
    "appr = ctrap(f, a, b, m)\n",
    "err16 = np.abs(value - appr)\n",
    "print('with %d panels' % m)\n",
    "print('approximate integral = ', appr)\n",
    "print('error = ', err16)\n",
    "\n",
    "m = 32\n",
    "appr = ctrap(f, a, b, m)\n",
    "err32 = np.abs(value - appr)\n",
    "print('\\n\\nwith %d panels' % m)\n",
    "print('approximate integral = ', appr)\n",
    "print('error = ', err32)\n",
    "\n",
    "print('\\nerr16/err32 = ', err16/err32)"
   ]
  },
  {
   "cell_type": "markdown",
   "metadata": {},
   "source": [
    "### In both (a) and (c), doubling the number of panels, reduces the error by a factor of very close to $4$."
   ]
  }
 ],
 "metadata": {
  "anaconda-cloud": {},
  "kernelspec": {
   "display_name": "Python [Root]",
   "language": "python",
   "name": "Python [Root]"
  },
  "language_info": {
   "codemirror_mode": {
    "name": "ipython",
    "version": 3
   },
   "file_extension": ".py",
   "mimetype": "text/x-python",
   "name": "python",
   "nbconvert_exporter": "python",
   "pygments_lexer": "ipython3",
   "version": "3.5.2"
  }
 },
 "nbformat": 4,
 "nbformat_minor": 0
}
