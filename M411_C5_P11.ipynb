{
 "cells": [
  {
   "cell_type": "markdown",
   "metadata": {},
   "source": [
    "## C5 P11\n",
    "\n",
    "### (Computer Problem 5.4.1 acd) Use Adaptive Trapezoid Quadrature to approximate the integrals within $0.5 x 10^{-8}$. Report the answer with eight correct decimal places and the number of subintervals required.\n"
   ]
  },
  {
   "cell_type": "markdown",
   "metadata": {},
   "source": [
    "### (a)\n",
    "\n",
    "$$ \\int_{0}^{4} \\frac{x}{\\sqrt{x^2 + 9}} \\; dx = 2$$"
   ]
  },
  {
   "cell_type": "code",
   "execution_count": 1,
   "metadata": {},
   "outputs": [
    {
     "name": "stdout",
     "output_type": "stream",
     "text": [
      "approximate value =  1.9999999975\n",
      "number of subintervals =  12604\n"
     ]
    }
   ],
   "source": [
    "# import needed libraries\n",
    "import numpy as np\n",
    "\n",
    "def trap(f, a, b):\n",
    "    s = (f(a)+f(b))*(b-a)/2.0\n",
    "    return s\n",
    "\n",
    "def adapquad(f, a0, b0, tol):\n",
    "    sum = 0.0\n",
    "    n = 0\n",
    "    m = np.array([])\n",
    "    alist = [a0]\n",
    "    blist = [b0]\n",
    "    tols = [tol]\n",
    "    apps = [trap(f,a0,b0)]\n",
    "    \n",
    "    while len(alist) > 0:\n",
    "        if n > 15:\n",
    "            quit()\n",
    "        a = alist.pop()\n",
    "        b = blist.pop()\n",
    "        oldtol = tols.pop()\n",
    "        oldapp = apps.pop()\n",
    "        c = (a+b)/2.0\n",
    "        leftapp = trap(f,a,c)\n",
    "        rightapp = trap(f,c,b)\n",
    "        errest = oldapp - (leftapp + rightapp)\n",
    "        if abs(errest) < 3.*oldtol:\n",
    "            sum  += leftapp+rightapp\n",
    "        else:\n",
    "# divide into two intervals\n",
    "            alist.append(a)\n",
    "            blist.append(c)\n",
    "            alist.append(c)\n",
    "            blist.append(b)\n",
    "            tols.append(oldtol/2.)\n",
    "            tols.append(oldtol/2.)\n",
    "            apps.append(leftapp)\n",
    "            apps.append(rightapp)\n",
    "        m = np.append(m,c)\n",
    "    return [sum, m]\n",
    "\n",
    "def f(x):\n",
    "    return x/np.sqrt(np.power(x,2) + 9)\n",
    "\n",
    "a = 0\n",
    "b = 4\n",
    "tol = 0.5*np.power(10.0,-8.0)\n",
    "appr = adapquad(f, a, b, tol)\n",
    "\n",
    "print('approximate value = ', appr[0])\n",
    "print('number of subintervals = ', appr[1].size-1)"
   ]
  },
  {
   "cell_type": "markdown",
   "metadata": {
    "collapsed": true
   },
   "source": [
    "$$ \\int_{0}^{4} \\frac{x}{\\sqrt{x^2 + 9}} \\; dx \\approx 1.9999999975$$\n",
    "\n",
    "The number of subintervals needed is $12604$."
   ]
  },
  {
   "cell_type": "markdown",
   "metadata": {},
   "source": [
    "### (c)\n",
    "\n",
    "$$ \\int_{0}^{1} x \\, e^x \\; dx = 1$$"
   ]
  },
  {
   "cell_type": "code",
   "execution_count": 2,
   "metadata": {},
   "outputs": [
    {
     "name": "stdout",
     "output_type": "stream",
     "text": [
      "approximate value =  1.00000000269\n",
      "number of subintervals =  12422\n"
     ]
    }
   ],
   "source": [
    "# import needed libraries\n",
    "import numpy as np\n",
    "\n",
    "def trap(f, a, b):\n",
    "    s = (f(a)+f(b))*(b-a)/2.0\n",
    "    return s\n",
    "\n",
    "def adapquad(f, a0, b0, tol):\n",
    "    sum = 0.0\n",
    "    n = 0\n",
    "    m = np.array([])\n",
    "    alist = [a0]\n",
    "    blist = [b0]\n",
    "    tols = [tol]\n",
    "    apps = [trap(f,a0,b0)]\n",
    "    \n",
    "    while len(alist) > 0:\n",
    "        if n > 15:\n",
    "            quit()\n",
    "        a = alist.pop()\n",
    "        b = blist.pop()\n",
    "        oldtol = tols.pop()\n",
    "        oldapp = apps.pop()\n",
    "        c = (a+b)/2.0\n",
    "        leftapp = trap(f,a,c)\n",
    "        rightapp = trap(f,c,b)\n",
    "        errest = oldapp - (leftapp + rightapp)\n",
    "        if abs(errest) < 3.*oldtol:\n",
    "            sum  += leftapp+rightapp\n",
    "        else:\n",
    "# divide into two intervals\n",
    "            alist.append(a)\n",
    "            blist.append(c)\n",
    "            alist.append(c)\n",
    "            blist.append(b)\n",
    "            tols.append(oldtol/2.)\n",
    "            tols.append(oldtol/2.)\n",
    "            apps.append(leftapp)\n",
    "            apps.append(rightapp)\n",
    "        m = np.append(m,c)\n",
    "    return [sum, m]\n",
    "\n",
    "def f(x):\n",
    "    return x*np.exp(x)\n",
    "\n",
    "a = 0\n",
    "b = 1\n",
    "tol = 0.5*np.power(10.0,-8.0)\n",
    "appr = adapquad(f, a, b, tol)\n",
    "\n",
    "print('approximate value = ', appr[0])\n",
    "print('number of subintervals = ', appr[1].size-1)"
   ]
  },
  {
   "cell_type": "markdown",
   "metadata": {
    "collapsed": true
   },
   "source": [
    "$$ \\int_{0}^{4} \\frac{x}{\\sqrt{x^2 + 9}} \\; dx \\approx 1.00000000269$$\n",
    "\n",
    "The number of subintervals needed is $12422$."
   ]
  },
  {
   "cell_type": "markdown",
   "metadata": {},
   "source": [
    "### (d)\n",
    "\n",
    "$$ \\int_{1}^{3} x^2 \\ln{(x)} \\; dx = 6.99862170912$$"
   ]
  },
  {
   "cell_type": "code",
   "execution_count": 3,
   "metadata": {},
   "outputs": [
    {
     "name": "stdout",
     "output_type": "stream",
     "text": [
      "approximate value =  6.99862171179\n",
      "number of subintervals =  32766\n"
     ]
    }
   ],
   "source": [
    "# import needed libraries\n",
    "import numpy as np\n",
    "\n",
    "def trap(f, a, b):\n",
    "    s = (f(a)+f(b))*(b-a)/2.0\n",
    "    return s\n",
    "\n",
    "def adapquad(f, a0, b0, tol):\n",
    "    sum = 0.0\n",
    "    n = 0\n",
    "    m = np.array([])\n",
    "    alist = [a0]\n",
    "    blist = [b0]\n",
    "    tols = [tol]\n",
    "    apps = [trap(f,a0,b0)]\n",
    "    \n",
    "    while len(alist) > 0:\n",
    "        if n > 15:\n",
    "            quit()\n",
    "        a = alist.pop()\n",
    "        b = blist.pop()\n",
    "        oldtol = tols.pop()\n",
    "        oldapp = apps.pop()\n",
    "        c = (a+b)/2.0\n",
    "        leftapp = trap(f,a,c)\n",
    "        rightapp = trap(f,c,b)\n",
    "        errest = oldapp - (leftapp + rightapp)\n",
    "        if abs(errest) < 3.*oldtol:\n",
    "            sum  += leftapp+rightapp\n",
    "        else:\n",
    "# divide into two intervals\n",
    "            alist.append(a)\n",
    "            blist.append(c)\n",
    "            alist.append(c)\n",
    "            blist.append(b)\n",
    "            tols.append(oldtol/2.)\n",
    "            tols.append(oldtol/2.)\n",
    "            apps.append(leftapp)\n",
    "            apps.append(rightapp)\n",
    "        m = np.append(m,c)\n",
    "    return [sum, m]\n",
    "\n",
    "def f(x):\n",
    "    return np.power(x,2.0)*np.log(x)\n",
    "\n",
    "a = 1\n",
    "b = 3\n",
    "tol = 0.5*np.power(10.0,-8.0)\n",
    "appr = adapquad(f, a, b, tol)\n",
    "\n",
    "print('approximate value = ', appr[0])\n",
    "print('number of subintervals = ', appr[1].size-1)"
   ]
  },
  {
   "cell_type": "markdown",
   "metadata": {
    "collapsed": true
   },
   "source": [
    "$$ \\int_{0}^{4} \\frac{x}{\\sqrt{x^2 + 9}} \\; dx \\approx 6.99862171179$$\n",
    "\n",
    "The number of subintervals needed is $32766$."
   ]
  },
  {
   "cell_type": "code",
   "execution_count": null,
   "metadata": {
    "collapsed": true
   },
   "outputs": [],
   "source": []
  }
 ],
 "metadata": {
  "anaconda-cloud": {},
  "kernelspec": {
   "display_name": "Python 3",
   "language": "python",
   "name": "python3"
  },
  "language_info": {
   "codemirror_mode": {
    "name": "ipython",
    "version": 3
   },
   "file_extension": ".py",
   "mimetype": "text/x-python",
   "name": "python",
   "nbconvert_exporter": "python",
   "pygments_lexer": "ipython3",
   "version": "3.6.5"
  }
 },
 "nbformat": 4,
 "nbformat_minor": 1
}
