{
 "cells": [
  {
   "cell_type": "markdown",
   "metadata": {},
   "source": [
    "## C4 - P6\n",
    "\n",
    "### (Computer Exercise 4.3.4) Write a Python code that implements classical Gramm-Schmidt to find the full $QR$ factorization. Check your work by comparing factorizations of the matices in Exercise 4.3.2."
   ]
  },
  {
   "cell_type": "code",
   "execution_count": 20,
   "metadata": {
    "collapsed": false
   },
   "outputs": [],
   "source": [
    "# import needed libraries\n",
    "import numpy as np\n",
    "import matplotlib.pyplot as plt\n",
    "import seaborn as sns\n",
    "\n",
    "# Magic function to make matplotlib inline; other style specs must come AFTER\n",
    "%matplotlib inline\n",
    "\n",
    "# This enables high resolution PNGs.\n",
    "%config InlineBackend.figure_formats = {'png', 'retina'}\n",
    "\n",
    "# Some Seaborn settings for notebooks\n",
    "rc = {'lines.linewidth': 2, \n",
    "      'axes.labelsize': 18, \n",
    "      'axes.titlesize': 18, \n",
    "      'axes.facecolor': 'DFDFE5'}\n",
    "sns.set_context('notebook', rc=rc)\n",
    "sns.set_style('darkgrid', rc=rc)"
   ]
  },
  {
   "cell_type": "code",
   "execution_count": 21,
   "metadata": {
    "collapsed": false
   },
   "outputs": [],
   "source": [
    "import numpy as np\n",
    "\n",
    "# class_gramm_schmidt_full : classical Gramm Schmidt, full QR decomposition\n",
    "# Inputs: matrix a (m x n)\n",
    "# Output: q (m x m), r (m x n)\n",
    "\n",
    "def class_gramm_schmidt_full(A):\n",
    "    (m,n)= A.shape\n",
    "    R = np.zeros((m,n))\n",
    "    Q = np.zeros((m,m))\n",
    "    \n",
    "# gramm schmidt iteration loop\n",
    "# for each column of A\n",
    "    for j in np.arange(n):\n",
    "\n",
    "# set y equal to the jth column of A, A_j\n",
    "        y = A[:,j]\n",
    "\n",
    "# compute projection of A_j onto q_1, q_2, ..., q_{j-1}\n",
    "# and subtract from y\n",
    "        for i in np.arange(j):\n",
    "            R[i,j] = np.dot(Q[:,i],A[:,j])\n",
    "            y = y - R[i,j]*Q[:,i]\n",
    "\n",
    "# compute the norm on y\n",
    "        R[j,j] = np.linalg.norm(y,2)\n",
    "\n",
    "# construct q_j by normalizing y\n",
    "        Q[:,j] = y/R[j,j]\n",
    "\n",
    "# if there are more rows than columns, need m-n more columns in Q\n",
    "# construct a projection matrix from the current columns of Q that\n",
    "# projects onto the orthogonal complement of Q, I - Q Q^T\n",
    "# construct the remaining columns of Q by multiplying I - Q Q^T times\n",
    "# the first m-n columns of the identity matrix, then normalize the result\n",
    "    if (m>n):\n",
    "        P = np.eye(m) - np.dot(Q, Q.transpose())\n",
    "        tmpQ = P.dot(np.eye(m)[:,0:m-n])\n",
    "        normQ = np.zeros(m-n)\n",
    "        for j in np.arange(m-n):\n",
    "            normQ[j] = np.linalg.norm(tmpQ[:,j])\n",
    "        Q[:,n:m] = tmpQ/normQ\n",
    "    return Q,R"
   ]
  },
  {
   "cell_type": "markdown",
   "metadata": {},
   "source": [
    "### From Exercise 4.3.2 (a) by-hand\n",
    "### $$A = \\begin{bmatrix}2&3\\\\-2&-6\\\\1&0\\end{bmatrix}$$\n",
    "### $$Q = \\begin{bmatrix}2/3&-1/3&2/3\\\\-2/3&-2/3&1/3\\\\1/3&-2/3&-2/3\\end{bmatrix}$$\n",
    "### $$R = \\begin{bmatrix}3&6\\\\0&3\\\\0&0\\end{bmatrix}$$"
   ]
  },
  {
   "cell_type": "code",
   "execution_count": 18,
   "metadata": {
    "collapsed": false
   },
   "outputs": [
    {
     "name": "stdout",
     "output_type": "stream",
     "text": [
      "a= [[ 2  3]\n",
      " [-2 -6]\n",
      " [ 1  0]]\n",
      "\n",
      "q =  [[ 0.66666667 -0.33333333  0.66666667]\n",
      " [-0.66666667 -0.66666667  0.33333333]\n",
      " [ 0.33333333 -0.66666667 -0.66666667]]\n",
      "\n",
      "r =  [[ 3.  6.]\n",
      " [ 0.  3.]\n",
      " [ 0.  0.]]\n",
      "\n",
      "qr =  [[ 2.  3.]\n",
      " [-2. -6.]\n",
      " [ 1.  0.]]\n",
      "\n",
      "qT Q =  [[ 1.  0.  0.]\n",
      " [ 0.  1.  0.]\n",
      " [ 0.  0.  1.]]\n"
     ]
    }
   ],
   "source": [
    "\n",
    "# matrices form Exercise 4.3.2\n",
    "a = np.array([[2,3],[-2,-6],[1,0]])\n",
    "print('a=',a)\n",
    "\n",
    "q,r = class_gramm_schmidt_full(a)\n",
    "print('\\nq = ', q)\n",
    "print('\\nr = ', r)\n",
    "print('\\nqr = ', q.dot(r))\n",
    "print('\\nqT Q = ', np.dot(q.transpose(),q))"
   ]
  },
  {
   "cell_type": "markdown",
   "metadata": {},
   "source": [
    "### We see that the output of the function class_gramm_schmidt_full() matches the by-hand result.\n",
    "\n",
    "### From Exercise 4.3.2 (b) by-hand\n",
    "### $$A = \\begin{bmatrix}-4&-4\\\\-2&7\\\\4&-5\\end{bmatrix}$$\n",
    "### $$Q = \\begin{bmatrix}-2/3&-2/3&1/3\\\\-1/3&2/3&2/3\\\\2/3&-1/3&2/3\\end{bmatrix}$$\n",
    "### $$R = \\begin{bmatrix}6&-3\\\\0&9\\\\0&0\\end{bmatrix}$$"
   ]
  },
  {
   "cell_type": "code",
   "execution_count": 19,
   "metadata": {
    "collapsed": false
   },
   "outputs": [
    {
     "name": "stdout",
     "output_type": "stream",
     "text": [
      "a= [[-4 -4]\n",
      " [-2  7]\n",
      " [ 4 -5]]\n",
      "\n",
      "q =  [[-0.66666667 -0.66666667  0.74535599]\n",
      " [-0.33333333  0.66666667 -0.2981424 ]\n",
      " [ 0.66666667 -0.33333333  0.59628479]]\n",
      "\n",
      "r =  [[ 6. -3.]\n",
      " [ 0.  9.]\n",
      " [ 0.  0.]]\n",
      "\n",
      "qr =  [[-4. -4.]\n",
      " [-2.  7.]\n",
      " [ 4. -5.]]\n",
      "\n",
      "qT Q =  [[  1.00000000e+00  -2.77555756e-17   0.00000000e+00]\n",
      " [ -2.77555756e-17   1.00000000e+00  -8.94427191e-01]\n",
      " [  0.00000000e+00  -8.94427191e-01   1.00000000e+00]]\n"
     ]
    }
   ],
   "source": [
    "# matrices form Exercise 4.3.2\n",
    "a = np.array([[-4,-4],[-2,7],[4,-5]])\n",
    "print('a=',a)\n",
    "\n",
    "q,r = class_gramm_s(a)\n",
    "print('\\nq = ', q)\n",
    "print('\\nr = ', r)\n",
    "print('\\nqr = ', q.dot(r))\n",
    "print('\\nqT Q = ', np.dot(q.transpose(),q))"
   ]
  },
  {
   "cell_type": "markdown",
   "metadata": {},
   "source": [
    "### We see that the output of the function class_gramm_schmidt_full() matches the by-hand result."
   ]
  }
 ],
 "metadata": {
  "anaconda-cloud": {},
  "kernelspec": {
   "display_name": "Python [Root]",
   "language": "python",
   "name": "Python [Root]"
  },
  "language_info": {
   "codemirror_mode": {
    "name": "ipython",
    "version": 3
   },
   "file_extension": ".py",
   "mimetype": "text/x-python",
   "name": "python",
   "nbconvert_exporter": "python",
   "pygments_lexer": "ipython3",
   "version": "3.5.2"
  }
 },
 "nbformat": 4,
 "nbformat_minor": 0
}
