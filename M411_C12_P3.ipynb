{
 "cells": [
  {
   "cell_type": "markdown",
   "metadata": {},
   "source": [
    "## C12 - P3\n",
    "\n",
    "## (Computer Problem 12.2.3ab) Apply the shifted QR algorithm directly to find all the eigenvalues of the following matrices.\n",
    "\n",
    "## (a) $$A = \\begin{equation*} \\begin{bmatrix} -1&1&3\\\\ 3&3&-2 \\\\ -5&2&7 \\end{bmatrix} \\end{equation*} $$"
   ]
  },
  {
   "cell_type": "code",
   "execution_count": 1,
   "metadata": {
    "collapsed": false
   },
   "outputs": [
    {
     "name": "stdout",
     "output_type": "stream",
     "text": [
      "\n",
      "eigenvals of aa =  [ 2.99997994 +0.00000000e+00j  3.00001003 -1.73716380e-05j\n",
      "  3.00001003 +1.73716380e-05j]\n",
      "\n",
      "numpy eigenvals are [ 3.00001088 +1.88367701e-05j  3.00001088 -1.88367701e-05j\n",
      "  2.99997825 +0.00000000e+00j]\n"
     ]
    }
   ],
   "source": [
    "import numpy as np\n",
    "import shiftedqr as myqr\n",
    "\n",
    "aa = np.array([[-1.,1.,3.],[3.,3.,-2.],[-5.,2.,7.]])\n",
    "lam = myqr.shiftedqr(aa)\n",
    "print('\\neigenvals of aa = ', lam)\n",
    "\n",
    "print('\\nnumpy eigenvals are', np.linalg.eig(aa)[0])"
   ]
  },
  {
   "cell_type": "markdown",
   "metadata": {},
   "source": [
    "## The computed eigenvalues computed are , $[2.99997994, 3.00001003, 3.00001003]$. These are correct to $4$ decimal places.\n",
    "\n",
    "\n",
    "## (b) $$A = \\begin{equation*} \\begin{bmatrix} 7&-33&-15\\\\ 2&26&7 \\\\-4&-50&-13 \\end{bmatrix} \\end{equation*} $$"
   ]
  },
  {
   "cell_type": "code",
   "execution_count": 2,
   "metadata": {
    "collapsed": false
   },
   "outputs": [
    {
     "name": "stdout",
     "output_type": "stream",
     "text": [
      "\n",
      "no-hess, eigenvals bb =  [10.+0.j  9.+0.j  1.+0.j]\n",
      "\n",
      "numpy eigenvals are [10.  9.  1.]\n"
     ]
    }
   ],
   "source": [
    "bb = np.array([[7.,-33.,-15.],[2.,26.,7.],[-4.,-50.,-13.]])\n",
    "lam = myqr.shiftedqr(bb)\n",
    "print('\\nno-hess, eigenvals bb = ', lam)\n",
    "\n",
    "print('\\nnumpy eigenvals are', np.linalg.eig(bb)[0])"
   ]
  },
  {
   "cell_type": "markdown",
   "metadata": {},
   "source": [
    "## The computed eigenvalues computed are , $[10.0, 9.0, 1.0]$. These are the correct eigenvalues."
   ]
  }
 ],
 "metadata": {
  "anaconda-cloud": {},
  "kernelspec": {
   "display_name": "Python [Root]",
   "language": "python",
   "name": "Python [Root]"
  },
  "language_info": {
   "codemirror_mode": {
    "name": "ipython",
    "version": 3
   },
   "file_extension": ".py",
   "mimetype": "text/x-python",
   "name": "python",
   "nbconvert_exporter": "python",
   "pygments_lexer": "ipython3",
   "version": "3.5.2"
  }
 },
 "nbformat": 4,
 "nbformat_minor": 0
}
