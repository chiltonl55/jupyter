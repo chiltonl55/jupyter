{
 "cells": [
  {
   "cell_type": "markdown",
   "metadata": {},
   "source": [
    "## C2 P6\n",
    "\n",
    "### (Computer Problem 2.2.1 ab) Write a Python program to take a matrix $A$ as input and output $L$ and $U$. No row exchanges are allowed - the program should be designed to shut down if it encounters a zero pivot. Check your program by factoring the matrices in Exercise 2.2.2ab.\n"
   ]
  },
  {
   "cell_type": "code",
   "execution_count": 8,
   "metadata": {
    "collapsed": false
   },
   "outputs": [
    {
     "name": "stdout",
     "output_type": "stream",
     "text": [
      "l =     1.0    0.0    0.0\n",
      "        2.0    1.0    0.0\n",
      "        1.0    0.0    1.0 \n",
      "\n",
      "u =     3.0    1.0    2.0\n",
      "        0.0    1.0    0.0\n",
      "        0.0    0.0    3.0 \n",
      "\n",
      "l =     1.0    0.0    0.0\n",
      "        1.0    1.0    0.0\n",
      "        0.5    0.5    1.0 \n",
      "\n",
      "u =     4.0    2.0    0.0\n",
      "        0.0    2.0    2.0\n",
      "        0.0    0.0    2.0\n"
     ]
    }
   ],
   "source": [
    "import numpy as np\n",
    "import sys\n",
    "\n",
    "def a_lu(a):\n",
    "\n",
    "# make sure a is square\n",
    "    [m, n] = a.shape\n",
    "    if m != n:\n",
    "        sys.exit(\"Matrix must be square\")\n",
    "    a = a.astype(float)\n",
    "\n",
    "# for columns 0 thru n-2\n",
    "    for k in np.arange(n-1):\n",
    "# if pivot is 0, exit\n",
    "        if a[k,k] == 0:\n",
    "            sys.exit(\"Zero pivot encountered\")\n",
    "# Compute multiplier for each row\n",
    "        a[k+1:n,k] = a[k+1:n,k]/a[k,k]\n",
    "# Update the remainder of the matrix\n",
    "# np.newaxis forces result to be a 2D array\n",
    "        a[k+1:n,k+1:n] = a[k+1:n,k+1:n] - a[k+1:n,k,np.newaxis]*a[k,k+1:n]        \n",
    "# extract l and u from a\n",
    "    l = np.identity(m) + np.tril(a,-1)\n",
    "    u = np.triu(a)\n",
    "    return (l,u)\n",
    "\n",
    "a = np.array([[3,1,2],[6,3,4],[3,1,5]])\n",
    "l,u = a_lu(a)\n",
    "print('l =', '\\n    '.join([''.join(['{:7}'.format(item) for item in row]) for row in l]), '\\n')\n",
    "print('u =', '\\n    '.join([''.join(['{:7}'.format(item) for item in row]) for row in u]), '\\n')\n",
    "\n",
    "a = np.array([[4,2,0],[4,4,2],[2,2,3]])\n",
    "l,u = a_lu(a)\n",
    "print('l =', '\\n    '.join([''.join(['{:7}'.format(item) for item in row]) for row in l]), '\\n')\n",
    "print('u =', '\\n    '.join([''.join(['{:7}'.format(item) for item in row]) for row in u]))"
   ]
  },
  {
   "cell_type": "markdown",
   "metadata": {},
   "source": [
    "### (a)\n",
    "\n",
    "### $$ \\begin{equation}\n",
    "a = \\begin{bmatrix}\n",
    "        3 & 1 & 2\\\\\n",
    "        6 & 3 & 4\\\\\n",
    "        3 & 1 & 5\n",
    "    \\end{bmatrix}\n",
    "\\quad \\quad\n",
    "l = \\begin{bmatrix}\n",
    "        1 & 0 & 0\\\\\n",
    "        2 & 1 & 0\\\\\n",
    "        1 & 0 & 1\n",
    "    \\end{bmatrix}\n",
    "\\quad \\quad\n",
    "u = \\begin{bmatrix}\n",
    "        3 & 1 & 2\\\\\n",
    "        0 & 1 & 0\\\\\n",
    "        0 & 0 & 3\n",
    "    \\end{bmatrix}\n",
    "\\end{equation} $$\n"
   ]
  },
  {
   "cell_type": "markdown",
   "metadata": {},
   "source": [
    "### (b)\n",
    "\n",
    "### $$\n",
    "\\begin{equation}\n",
    "a = \\begin{bmatrix}\n",
    "        4 & 2 & 0\\\\\n",
    "        4 & 4 & 2\\\\\n",
    "        2 & 2 & 3\n",
    "    \\end{bmatrix}\n",
    "\\quad \\quad\n",
    "l = \\begin{bmatrix}\n",
    "        1 & 0 & 0\\\\\n",
    "        1 & 1 & 0\\\\\n",
    "        0.5 & 0.5 & 1\n",
    "    \\end{bmatrix}\n",
    "\\quad \\quad\n",
    "u = \\begin{bmatrix}\n",
    "        4 & 2 & 0\\\\\n",
    "        0 & 2 & 2\\\\\n",
    "        0 & 0 & 2\n",
    "    \\end{bmatrix}\n",
    "\\end{equation}\n",
    "$$"
   ]
  }
 ],
 "metadata": {
  "anaconda-cloud": {},
  "kernelspec": {
   "display_name": "Python [Root]",
   "language": "python",
   "name": "Python [Root]"
  },
  "language_info": {
   "codemirror_mode": {
    "name": "ipython",
    "version": 3
   },
   "file_extension": ".py",
   "mimetype": "text/x-python",
   "name": "python",
   "nbconvert_exporter": "python",
   "pygments_lexer": "ipython3",
   "version": "3.5.2"
  }
 },
 "nbformat": 4,
 "nbformat_minor": 0
}
